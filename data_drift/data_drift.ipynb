{
 "cells": [
  {
   "cell_type": "code",
   "execution_count": 3,
   "metadata": {},
   "outputs": [],
   "source": [
    "import evidently\n",
    "import time\n",
    "from evidently.report import Report\n",
    "from evidently.metric_preset import DataDriftPreset\n",
    "from evidently import ColumnMapping\n",
    "import pandas as pd\n",
    "import numpy as np"
   ]
  },
  {
   "cell_type": "code",
   "execution_count": 4,
   "metadata": {},
   "outputs": [],
   "source": [
    "df_train  = pd.read_csv('C:/Users/oquach/OneDrive - Iliad/Documents/OpenClassRoom/Credit_default_risk/credit_default_risk/data/application_train.csv', sep = \",\")\n",
    "df_test = pd.read_csv('C:/Users/oquach/OneDrive - Iliad/Documents/OpenClassRoom/Credit_default_risk/credit_default_risk/data/application_test.csv', sep = \",\")"
   ]
  },
  {
   "cell_type": "code",
   "execution_count": 5,
   "metadata": {},
   "outputs": [],
   "source": [
    "application_train = df_train.dropna(subset=['TARGET']).drop(columns=['SK_ID_CURR','TARGET'])\n",
    "application_test = df_test.drop(columns=['SK_ID_CURR'])"
   ]
  },
  {
   "cell_type": "code",
   "execution_count": 6,
   "metadata": {},
   "outputs": [],
   "source": [
    "#Pour les colonnes catégorielles on va ne prendre que les colonnes ayant que des 0 et des 1\n",
    "categorical_columns = []\n",
    "\n",
    "# Parcourir chaque colonne\n",
    "for col in application_train.columns:\n",
    "    # Récupérer les valeurs uniques de la colonne\n",
    "    unique_vals = set(application_train[col].unique())\n",
    "\n",
    "    # Vérifier si les valeurs uniques sont uniquement 0, 1, et potentiellement NaN\n",
    "    if unique_vals.issubset({0, 1, np.nan}):\n",
    "        categorical_columns.append(col)"
   ]
  },
  {
   "cell_type": "code",
   "execution_count": 7,
   "metadata": {},
   "outputs": [],
   "source": [
    "numerical_columns = [col for col in application_train.columns if col not in categorical_columns]\n"
   ]
  },
  {
   "cell_type": "code",
   "execution_count": 8,
   "metadata": {},
   "outputs": [],
   "source": [
    "start_time = time.time()"
   ]
  },
  {
   "cell_type": "code",
   "execution_count": 9,
   "metadata": {},
   "outputs": [
    {
     "name": "stdout",
     "output_type": "stream",
     "text": [
      "Les colonnes correspondent!\n"
     ]
    }
   ],
   "source": [
    "# Vérifiez que vos deux DataFrames ont exactement les mêmes colonnes\n",
    "assert set(application_train.columns) == set(application_test.columns)\n",
    "# Si l'assertion est réussie, cela signifie que les colonnes correspondent\n",
    "print(\"Les colonnes correspondent!\")"
   ]
  },
  {
   "cell_type": "code",
   "execution_count": 10,
   "metadata": {},
   "outputs": [],
   "source": [
    "# Création du column mapping\n",
    "column_mapping = ColumnMapping()\n",
    "\n",
    "column_mapping.numerical_features = numerical_columns\n",
    "column_mapping.categorical_features = categorical_columns"
   ]
  },
  {
   "cell_type": "code",
   "execution_count": 11,
   "metadata": {},
   "outputs": [
    {
     "name": "stdout",
     "output_type": "stream",
     "text": [
      "Création du data_drift_report\n"
     ]
    }
   ],
   "source": [
    "# Créer le rapport de dérive des données\n",
    "data_drift_report = Report(metrics=[\n",
    "    DataDriftPreset(num_stattest='ks', cat_stattest='psi', num_stattest_threshold=0.2, cat_stattest_threshold=0.2),\n",
    "])\n",
    "\n",
    "print(\"Création du data_drift_report\")"
   ]
  },
  {
   "cell_type": "code",
   "execution_count": 12,
   "metadata": {},
   "outputs": [
    {
     "name": "stdout",
     "output_type": "stream",
     "text": [
      "Run du data_drift_report\n"
     ]
    }
   ],
   "source": [
    "data_drift_report.run(reference_data=application_train, current_data=application_test, column_mapping=column_mapping)\n",
    "\n",
    "print(\"Run du data_drift_report\")"
   ]
  },
  {
   "cell_type": "code",
   "execution_count": 13,
   "metadata": {},
   "outputs": [
    {
     "name": "stdout",
     "output_type": "stream",
     "text": [
      "26.896589994430542\n"
     ]
    }
   ],
   "source": [
    "elapsed_time_fit = time.time() - start_time\n",
    "print(elapsed_time_fit)\n",
    "\n",
    "# Sauvegardez le rapport en tant que fichier HTML\n",
    "data_drift_report.save_html('data_drift_report_FULL_script.html')"
   ]
  }
 ],
 "metadata": {
  "kernelspec": {
   "display_name": "base",
   "language": "python",
   "name": "python3"
  },
  "language_info": {
   "codemirror_mode": {
    "name": "ipython",
    "version": 3
   },
   "file_extension": ".py",
   "mimetype": "text/x-python",
   "name": "python",
   "nbconvert_exporter": "python",
   "pygments_lexer": "ipython3",
   "version": "3.9.7"
  }
 },
 "nbformat": 4,
 "nbformat_minor": 2
}
