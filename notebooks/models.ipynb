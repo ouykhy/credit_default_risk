{
 "cells": [
  {
   "cell_type": "code",
   "execution_count": 37,
   "id": "318a40e0",
   "metadata": {},
   "outputs": [],
   "source": [
    "import pandas as pd\n",
    "import mlflow\n",
    "import mlflow.sklearn\n",
    "import seaborn as sns\n",
    "import matplotlib.pyplot as plt\n",
    "from sklearn.preprocessing import StandardScaler\n",
    "from sklearn.model_selection import train_test_split\n",
    "from sklearn.linear_model import LogisticRegression\n",
    "from sklearn.metrics import classification_report\n",
    "from imblearn.over_sampling import SMOTE\n",
    "from sklearn.dummy import DummyClassifier\n",
    "from sklearn.metrics import confusion_matrix,accuracy_score, roc_auc_score\n",
    "from sklearn.ensemble import RandomForestClassifier\n",
    "from sklearn.ensemble import GradientBoostingRegressor\n",
    "import pickle"
   ]
  },
  {
   "cell_type": "code",
   "execution_count": 28,
   "id": "7ef044dd",
   "metadata": {},
   "outputs": [],
   "source": [
    "# Load dataset\n",
    "data = pd.read_csv(\"C:/Users/oquach/OneDrive - Iliad/Documents/OpenClassRoom/Credit_default_risk/home_credit_default_risk_42columns.csv\",sep=',',index_col = False)"
   ]
  },
  {
   "cell_type": "markdown",
   "id": "8254e1b1",
   "metadata": {},
   "source": [
    "Prep the data"
   ]
  },
  {
   "cell_type": "code",
   "execution_count": 29,
   "id": "252513a6",
   "metadata": {},
   "outputs": [],
   "source": [
    "X = data.drop(['TARGET'], axis=1)\n",
    "y = data.TARGET\n",
    "# Split the dataset\n",
    "X_train, X_test, y_train, y_test = train_test_split(X, y, test_size=0.2)"
   ]
  },
  {
   "cell_type": "code",
   "execution_count": 30,
   "id": "6f935a1c",
   "metadata": {},
   "outputs": [],
   "source": [
    "# Normalisation des données :\n",
    "scaler = StandardScaler()\n",
    "X_train = scaler.fit_transform(X_train)\n",
    "X_test = scaler.transform(X_test)"
   ]
  },
  {
   "cell_type": "code",
   "execution_count": 31,
   "id": "b0d5ed9c",
   "metadata": {},
   "outputs": [],
   "source": [
    "\n",
    "# Sur-échantillonnage de la classe minoritaire avec SMOTE\n",
    "smote = SMOTE(random_state=123)\n",
    "X_train_smote, y_train_smote = smote.fit_resample(X_train, y_train)\n",
    "\n",
    "y_train_smote = y_train_smote.astype(int)\n",
    "y_test = y_test.astype(int)"
   ]
  },
  {
   "cell_type": "markdown",
   "id": "ea9b4aea",
   "metadata": {},
   "source": [
    "Logistic Regression"
   ]
  },
  {
   "cell_type": "code",
   "execution_count": 32,
   "id": "45613dc6",
   "metadata": {},
   "outputs": [],
   "source": [
    "# Define experiment name\n",
    "experiment_name = \"credit_default_risk_logistic_reg_Exp\"\n",
    "\n",
    "# Set the experiment name\n",
    "mlflow.set_experiment(experiment_name)\n",
    "\n",
    "# Define run name\n",
    "run_name = \"LogisticRegression_Run_2\""
   ]
  },
  {
   "cell_type": "code",
   "execution_count": 40,
   "id": "236311ca",
   "metadata": {},
   "outputs": [
    {
     "name": "stderr",
     "output_type": "stream",
     "text": [
      "2025/01/06 22:08:11 WARNING mlflow.models.model: Model logged without a signature and input example. Please set `input_example` parameter when logging the model to auto infer the model signature.\n"
     ]
    },
    {
     "data": {
      "image/png": "[encoded data removed]",
      "text/plain": [
       "<Figure size 640x480 with 2 Axes>"
      ]
     },
     "metadata": {},
     "output_type": "display_data"
    },
    {
     "name": "stdout",
     "output_type": "stream",
     "text": [
      "Run ID: a06e223f87f54adb9a7ddf6656956d77\n",
      "Logged Parameters:\n",
      "Logged Metrics:\n",
      "accuracy: 0.9197749666677506\n",
      "Model Artifact URI: file:///c:/Users/oquach/OneDrive%20-%20Iliad/Documents/OpenClassRoom/Credit_default_risk/credit_default_risk/notebooks/mlruns/722871155681016879/a06e223f87f54adb9a7ddf6656956d77/artifacts\n"
     ]
    }
   ],
   "source": [
    "# Start the MLflow run with a specific run name\n",
    "with mlflow.start_run(run_name=run_name):\n",
    "\n",
    "    # Model training\n",
    "    model = LogisticRegression(max_iter = 6000, solver='saga', random_state=808)\n",
    "    model.fit(X_train, y_train)\n",
    "\n",
    "    # Predictions\n",
    "    y_pred = model.predict(X_test)\n",
    "\n",
    "    # Classificaton report\n",
    "    report = classification_report(y_test, y_pred)\n",
    "\n",
    "    # Log the model with input example\n",
    "    mlflow.sklearn.log_model(model, \"logistic_regression_model\")\n",
    "\n",
    "    # Log metrics (optional)\n",
    "    mlflow.log_metric(\"accuracy\", model.score(X_test, y_test))\n",
    "\n",
    "    # Confusion matrix\n",
    "    conf_matrix = confusion_matrix(y_test, y_pred)\n",
    "    sns.heatmap(conf_matrix, annot=True, fmt='d', cmap='Blues')\n",
    "    plt.title(\"Confusion matrix\")\n",
    "    plt.xlabel(\"Predictions\")\n",
    "    plt.ylabel(\"Reality\")\n",
    "    plt.savefig(\"confusion_matrix.png\")\n",
    "    plt.show()\n",
    "\n",
    "    # log of confusion matrix\n",
    "    mlflow.log_artifact(\"confusion_matrix.png\")\n",
    "\n",
    "    # Print out the current logged details of the MLflow run\n",
    "    run_id = mlflow.active_run().info.run_id\n",
    "    print(f\"Run ID: {run_id}\")\n",
    "\n",
    "    # Fetch the logged parameters\n",
    "    params = mlflow.get_run(run_id).data.params\n",
    "    print(\"Logged Parameters:\")\n",
    "    for param in params:\n",
    "        print(f\"{param}: {params[param]}\")\n",
    "\n",
    "    # Fetch the logged metrics\n",
    "    metrics = mlflow.get_run(run_id).data.metrics\n",
    "    print(\"Logged Metrics:\")\n",
    "    for metric in metrics:\n",
    "        print(f\"{metric}: {metrics[metric]}\")\n",
    "\n",
    "    # Fetch the logged model artifact URI\n",
    "    artifact_uri = mlflow.get_artifact_uri()\n",
    "    print(f\"Model Artifact URI: {artifact_uri}\")\n",
    "\n",
    "# End the run\n",
    "mlflow.end_run()"
   ]
  },
  {
   "cell_type": "code",
   "execution_count": 39,
   "id": "bce5cdb4",
   "metadata": {},
   "outputs": [],
   "source": [
    "# Save the model\n",
    "with open(\"C:/Users/oquach/OneDrive - Iliad/Documents/OpenClassRoom/Credit_default_risk/credit_default_risk/models/logistic_regression_model.pkl\", \"wb\") as f:\n",
    "    pickle.dump(model, f)"
   ]
  },
  {
   "cell_type": "code",
   "execution_count": 18,
   "id": "e8be3166",
   "metadata": {},
   "outputs": [
    {
     "name": "stderr",
     "output_type": "stream",
     "text": [
      "2025/01/06 17:46:08 INFO mlflow.tracking.fluent: Experiment with name 'credit_default_risk_dummy_classifier_Exp' does not exist. Creating a new experiment.\n"
     ]
    }
   ],
   "source": [
    "# Define experiment name\n",
    "experiment_name = \"credit_default_risk_dummy_classifier_Exp\"\n",
    "\n",
    "# Set the experiment name\n",
    "mlflow.set_experiment(experiment_name)\n",
    "\n",
    "# Define run name\n",
    "run_name = \"DummyClassifier_Run_2\""
   ]
  },
  {
   "cell_type": "code",
   "execution_count": 19,
   "id": "67532082",
   "metadata": {},
   "outputs": [
    {
     "name": "stdout",
     "output_type": "stream",
     "text": [
      "Run ID: 4e69d1df406944d7bab6d95261822f2d\n",
      "Logged Parameters:\n",
      "Logged Metrics:\n",
      "accuracy: 0.9212058144450587\n",
      "Model Artifact URI: file:///c:/Users/oquach/OneDrive%20-%20Iliad/Documents/OpenClassRoom/Credit_default_risk/credit_default_risk/notebooks/mlruns/955952066548785278/4e69d1df406944d7bab6d95261822f2d/artifacts\n"
     ]
    }
   ],
   "source": [
    "# Start the MLflow run with a specific run name\n",
    "with mlflow.start_run(run_name=run_name):\n",
    "\n",
    "    # Model training\n",
    "    dummy_clf = DummyClassifier(strategy=\"most_frequent\")\n",
    "    dummy_clf.fit(X_train, y_train)\n",
    "\n",
    "    # Log the model with input example\n",
    "    mlflow.sklearn.log_model(dummy_clf, \"dummy_classifier_model\", input_example=input_example)\n",
    "\n",
    "    # Log metrics (optional)\n",
    "    mlflow.log_metric(\"accuracy\", dummy_clf.score(X_test, y_test))\n",
    "\n",
    "    # Print out the current logged details of the MLflow run\n",
    "    run_id = mlflow.active_run().info.run_id\n",
    "    print(f\"Run ID: {run_id}\")\n",
    "\n",
    "    # Fetch the logged parameters\n",
    "    params = mlflow.get_run(run_id).data.params\n",
    "    print(\"Logged Parameters:\")\n",
    "    for param in params:\n",
    "        print(f\"{param}: {params[param]}\")\n",
    "\n",
    "    # Fetch the logged metrics\n",
    "    metrics = mlflow.get_run(run_id).data.metrics\n",
    "    print(\"Logged Metrics:\")\n",
    "    for metric in metrics:\n",
    "        print(f\"{metric}: {metrics[metric]}\")\n",
    "\n",
    "    # Fetch the logged model artifact URI\n",
    "    artifact_uri = mlflow.get_artifact_uri()\n",
    "    print(f\"Model Artifact URI: {artifact_uri}\")\n",
    "\n",
    "# End the run\n",
    "mlflow.end_run()"
   ]
  },
  {
   "cell_type": "code",
   "execution_count": 20,
   "id": "370dae42",
   "metadata": {},
   "outputs": [],
   "source": [
    "# Save the model\n",
    "with open(\"C:/Users/oquach/OneDrive - Iliad/Documents/OpenClassRoom/Credit_default_risk/credit_default_risk/models/dummy_classifier_model.pkl\", \"wb\") as f:\n",
    "    pickle.dump(dummy_clf, f)"
   ]
  },
  {
   "cell_type": "code",
   "execution_count": 21,
   "id": "712b4911",
   "metadata": {},
   "outputs": [
    {
     "name": "stderr",
     "output_type": "stream",
     "text": [
      "2025/01/06 17:52:44 INFO mlflow.tracking.fluent: Experiment with name 'credit_default_risk_random_forest_classifier_Exp' does not exist. Creating a new experiment.\n"
     ]
    }
   ],
   "source": [
    "# Define experiment name\n",
    "experiment_name = \"credit_default_risk_random_forest_classifier_Exp\"\n",
    "\n",
    "# Set the experiment name\n",
    "mlflow.set_experiment(experiment_name)\n",
    "\n",
    "# Define run name\n",
    "run_name = \"RandomForestClassifier_Run_2\""
   ]
  },
  {
   "cell_type": "code",
   "execution_count": 22,
   "id": "64bc572e",
   "metadata": {},
   "outputs": [
    {
     "name": "stdout",
     "output_type": "stream",
     "text": [
      "Run ID: ddb60a18bbee4547893864fe0e77db82\n",
      "Logged Parameters:\n",
      "Logged Metrics:\n",
      "accuracy: 0.9214334493187213\n",
      "Model Artifact URI: file:///c:/Users/oquach/OneDrive%20-%20Iliad/Documents/OpenClassRoom/Credit_default_risk/credit_default_risk/notebooks/mlruns/513326881395720947/ddb60a18bbee4547893864fe0e77db82/artifacts\n"
     ]
    }
   ],
   "source": [
    "with mlflow.start_run(run_name=run_name):\n",
    "\n",
    "    # Model training\n",
    "    rf_clf = RandomForestClassifier(n_estimators = 100)\n",
    "    rf_clf.fit(X_train, y_train)\n",
    "\n",
    "    # Log the model with input example\n",
    "    mlflow.sklearn.log_model(rf_clf, \"random_forest_classifier_model\", input_example=input_example)\n",
    "\n",
    "    # Log metrics (optional)\n",
    "    mlflow.log_metric(\"accuracy\", rf_clf.score(X_test, y_test))\n",
    "\n",
    "    # Print out the current logged details of the MLflow run\n",
    "    run_id = mlflow.active_run().info.run_id\n",
    "    print(f\"Run ID: {run_id}\")\n",
    "\n",
    "    # Fetch the logged parameters\n",
    "    params = mlflow.get_run(run_id).data.params\n",
    "    print(\"Logged Parameters:\")\n",
    "    for param in params:\n",
    "        print(f\"{param}: {params[param]}\")\n",
    "\n",
    "    # Fetch the logged metrics\n",
    "    metrics = mlflow.get_run(run_id).data.metrics\n",
    "    print(\"Logged Metrics:\")\n",
    "    for metric in metrics:\n",
    "        print(f\"{metric}: {metrics[metric]}\")\n",
    "\n",
    "    # Fetch the logged model artifact URI\n",
    "    artifact_uri = mlflow.get_artifact_uri()\n",
    "    print(f\"Model Artifact URI: {artifact_uri}\")\n",
    "\n",
    "# End the run\n",
    "mlflow.end_run()"
   ]
  },
  {
   "cell_type": "code",
   "execution_count": 25,
   "id": "c2143552",
   "metadata": {},
   "outputs": [],
   "source": [
    "# Save the model\n",
    "with open(\"C:/Users/oquach/OneDrive - Iliad/Documents/OpenClassRoom/Credit_default_risk/credit_default_risk/models/randomforest_classifier_model.pkl\", \"wb\") as f:\n",
    "    pickle.dump(rf_clf, f)"
   ]
  }
 ],
 "metadata": {
  "kernelspec": {
   "display_name": "Poetry Environment",
   "language": "python",
   "name": "poetry-env"
  },
  "language_info": {
   "codemirror_mode": {
    "name": "ipython",
    "version": 3
   },
   "file_extension": ".py",
   "mimetype": "text/x-python",
   "name": "python",
   "nbconvert_exporter": "python",
   "pygments_lexer": "ipython3",
   "version": "3.11.5"
  }
 },
 "nbformat": 4,
 "nbformat_minor": 5
}
