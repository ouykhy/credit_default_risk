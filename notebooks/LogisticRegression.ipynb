{
 "cells": [
  {
   "cell_type": "code",
   "execution_count": 1,
   "id": "318a40e0",
   "metadata": {},
   "outputs": [],
   "source": [
    "import pandas as pd\n",
    "\n",
    "import mlflow\n",
    "import mlflow.sklearn\n",
    "from sklearn.linear_model import LogisticRegression\n",
    "from sklearn.model_selection import train_test_split"
   ]
  },
  {
   "cell_type": "code",
   "execution_count": 2,
   "id": "45613dc6",
   "metadata": {},
   "outputs": [
    {
     "name": "stderr",
     "output_type": "stream",
     "text": [
      "2025/01/03 11:00:07 INFO mlflow.tracking.fluent: Experiment with name 'credit_default_risk_logistic_reg_Experiment' does not exist. Creating a new experiment.\n"
     ]
    }
   ],
   "source": [
    "# Define experiment name\n",
    "experiment_name = \"credit_default_risk_logistic_reg_Experiment\"\n",
    "\n",
    "# Set the experiment name\n",
    "mlflow.set_experiment(experiment_name)\n",
    "\n",
    "# Define run name\n",
    "run_name = \"LogisticRegression_Run_1\""
   ]
  },
  {
   "cell_type": "code",
   "execution_count": 4,
   "id": "252513a6",
   "metadata": {},
   "outputs": [],
   "source": [
    "# Load dataset\n",
    "data = pd.read_csv('application_train_readyfor_models_w_columns.csv',sep=';')\n",
    "# Select sample\n",
    "data_sample= data.sample(n=120000)\n",
    "X = data_sample.drop(['TARGET'], axis=1)\n",
    "y = data_sample.TARGET\n",
    "# Split the dataset\n",
    "X_train, X_test, y_train, y_test = train_test_split(X, y, test_size=0.2)"
   ]
  },
  {
   "cell_type": "code",
   "execution_count": 6,
   "id": "236311ca",
   "metadata": {},
   "outputs": [
    {
     "name": "stdout",
     "output_type": "stream",
     "text": [
      "Run ID: bfecad5ad447400881a6223e21967906\n",
      "Logged Parameters:\n",
      "Logged Metrics:\n",
      "accuracy: 0.9222083333333333\n",
      "Model Artifact URI: file:///c:/Users/oquach/OneDrive%20-%20Iliad/Documents/OpenClassRoom/Credit_default_risk/notebooks/mlruns/939470857449228318/bfecad5ad447400881a6223e21967906/artifacts\n"
     ]
    }
   ],
   "source": [
    "# Start the MLflow run with a specific run name\n",
    "with mlflow.start_run(run_name=run_name):\n",
    "\n",
    "    # Model training\n",
    "    model = LogisticRegression(max_iter = 6000, solver='saga', random_state=808)\n",
    "    model.fit(X_train, y_train)\n",
    "\n",
    "    # Create input example (sample input data)\n",
    "    input_example = X_train[0:1]\n",
    "\n",
    "    # Log the model with input example\n",
    "    mlflow.sklearn.log_model(model, \"logistic_regression_model\", input_example=input_example)\n",
    "\n",
    "    # Log metrics (optional)\n",
    "    mlflow.log_metric(\"accuracy\", model.score(X_test, y_test))\n",
    "\n",
    "    # Print out the current logged details of the MLflow run\n",
    "    run_id = mlflow.active_run().info.run_id\n",
    "    print(f\"Run ID: {run_id}\")\n",
    "\n",
    "    # Fetch the logged parameters\n",
    "    params = mlflow.get_run(run_id).data.params\n",
    "    print(\"Logged Parameters:\")\n",
    "    for param in params:\n",
    "        print(f\"{param}: {params[param]}\")\n",
    "\n",
    "    # Fetch the logged metrics\n",
    "    metrics = mlflow.get_run(run_id).data.metrics\n",
    "    print(\"Logged Metrics:\")\n",
    "    for metric in metrics:\n",
    "        print(f\"{metric}: {metrics[metric]}\")\n",
    "\n",
    "    # Fetch the logged model artifact URI\n",
    "    artifact_uri = mlflow.get_artifact_uri()\n",
    "    print(f\"Model Artifact URI: {artifact_uri}\")\n",
    "\n",
    "# End the run\n",
    "mlflow.end_run()"
   ]
  },
  {
   "cell_type": "code",
   "execution_count": 5,
   "id": "bce5cdb4",
   "metadata": {},
   "outputs": [],
   "source": [
    "import pickle\n",
    "# Save the model\n",
    "with open(\"//models/trained_model.pkl\", \"wb\") as f:\n",
    "    pickle.dump(model, f)"
   ]
  }
 ],
 "metadata": {
  "kernelspec": {
   "display_name": "Poetry Environment",
   "language": "python",
   "name": "poetry-env"
  },
  "language_info": {
   "codemirror_mode": {
    "name": "ipython",
    "version": 3
   },
   "file_extension": ".py",
   "mimetype": "text/x-python",
   "name": "python",
   "nbconvert_exporter": "python",
   "pygments_lexer": "ipython3",
   "version": "3.11.5"
  }
 },
 "nbformat": 4,
 "nbformat_minor": 5
}
