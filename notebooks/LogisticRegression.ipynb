{
 "cells": [
  {
   "cell_type": "code",
   "execution_count": 1,
   "id": "318a40e0",
   "metadata": {},
   "outputs": [],
   "source": [
    "import pandas as pd\n",
    "\n",
    "import mlflow\n",
    "import mlflow.sklearn\n",
    "from sklearn.linear_model import LogisticRegression\n",
    "from sklearn.model_selection import train_test_split"
   ]
  },
  {
   "cell_type": "code",
   "execution_count": 2,
   "id": "45613dc6",
   "metadata": {},
   "outputs": [
    {
     "name": "stderr",
     "output_type": "stream",
     "text": [
      "2025/01/03 11:00:07 INFO mlflow.tracking.fluent: Experiment with name 'credit_default_risk_logistic_reg_Experiment' does not exist. Creating a new experiment.\n"
     ]
    }
   ],
   "source": [
    "# Define experiment name\n",
    "experiment_name = \"credit_default_risk_logistic_reg_Experiment\"\n",
    "\n",
    "# Set the experiment name\n",
    "mlflow.set_experiment(experiment_name)\n",
    "\n",
    "# Define run name\n",
    "run_name = \"LogisticRegression_Run_1\""
   ]
  },
  {
   "cell_type": "code",
   "execution_count": 4,
   "id": "252513a6",
   "metadata": {},
   "outputs": [],
   "source": [
    "# Load dataset\n",
    "data = pd.read_csv('application_train_readyfor_models_w_columns.csv',sep=';')\n",
    "# Select sample\n",
    "data_sample= data.sample(n=120000)\n",
    "X = data_sample.drop(['TARGET'], axis=1)\n",
    "y = data_sample.TARGET\n",
    "# Split the dataset\n",
    "X_train, X_test, y_train, y_test = train_test_split(X, y, test_size=0.2)"
   ]
  },
  {
   "cell_type": "code",
   "execution_count": 6,
   "id": "236311ca",
   "metadata": {},
   "outputs": [
    {
     "name": "stdout",
     "output_type": "stream",
     "text": [
      "Run ID: bfecad5ad447400881a6223e21967906\n",
      "Logged Parameters:\n",
      "Logged Metrics:\n",
      "accuracy: 0.9222083333333333\n",
      "Model Artifact URI: file:///c:/Users/oquach/OneDrive%20-%20Iliad/Documents/OpenClassRoom/Credit_default_risk/notebooks/mlruns/939470857449228318/bfecad5ad447400881a6223e21967906/artifacts\n"
     ]
    }
   ],
   "source": [
    "# Start the MLflow run with a specific run name\n",
    "with mlflow.start_run(run_name=run_name):\n",
    "\n",
    "    # Model training\n",
    "    model = LogisticRegression(max_iter = 6000, solver='saga', random_state=808)\n",
    "    model.fit(X_train, y_train)\n",
    "\n",
    "    # Create input example (sample input data)\n",
    "    input_example = X_train[0:1]\n",
    "\n",
    "    # Log the model with input example\n",
    "    mlflow.sklearn.log_model(model, \"logistic_regression_model\", input_example=input_example)\n",
    "\n",
    "    # Log metrics (optional)\n",
    "    mlflow.log_metric(\"accuracy\", model.score(X_test, y_test))\n",
    "\n",
    "    # Print out the current logged details of the MLflow run\n",
    "    run_id = mlflow.active_run().info.run_id\n",
    "    print(f\"Run ID: {run_id}\")\n",
    "\n",
    "    # Fetch the logged parameters\n",
    "    params = mlflow.get_run(run_id).data.params\n",
    "    print(\"Logged Parameters:\")\n",
    "    for param in params:\n",
    "        print(f\"{param}: {params[param]}\")\n",
    "\n",
    "    # Fetch the logged metrics\n",
    "    metrics = mlflow.get_run(run_id).data.metrics\n",
    "    print(\"Logged Metrics:\")\n",
    "    for metric in metrics:\n",
    "        print(f\"{metric}: {metrics[metric]}\")\n",
    "\n",
    "    # Fetch the logged model artifact URI\n",
    "    artifact_uri = mlflow.get_artifact_uri()\n",
    "    print(f\"Model Artifact URI: {artifact_uri}\")\n",
    "\n",
    "# End the run\n",
    "mlflow.end_run()"
   ]
  },
  {
   "cell_type": "code",
   "execution_count": 5,
   "id": "bce5cdb4",
   "metadata": {},
   "outputs": [],
   "source": [
    "import pickle"
   ]
  },
  {
   "cell_type": "code",
   "execution_count": 9,
   "id": "e7dd070e",
   "metadata": {},
   "outputs": [
    {
     "ename": "FileNotFoundError",
     "evalue": "[Errno 2] No such file or directory: '//models/trained_model.pkl'",
     "output_type": "error",
     "traceback": [
      "\u001b[1;31m---------------------------------------------------------------------------\u001b[0m",
      "\u001b[1;31mFileNotFoundError\u001b[0m                         Traceback (most recent call last)",
      "Cell \u001b[1;32mIn[9], line 2\u001b[0m\n\u001b[0;32m      1\u001b[0m \u001b[38;5;66;03m# Save the model\u001b[39;00m\n\u001b[1;32m----> 2\u001b[0m \u001b[38;5;28;01mwith\u001b[39;00m \u001b[38;5;28;43mopen\u001b[39;49m\u001b[43m(\u001b[49m\u001b[38;5;124;43m\"\u001b[39;49m\u001b[38;5;124;43m//models/trained_model.pkl\u001b[39;49m\u001b[38;5;124;43m\"\u001b[39;49m\u001b[43m,\u001b[49m\u001b[43m \u001b[49m\u001b[38;5;124;43m\"\u001b[39;49m\u001b[38;5;124;43mwb\u001b[39;49m\u001b[38;5;124;43m\"\u001b[39;49m\u001b[43m)\u001b[49m \u001b[38;5;28;01mas\u001b[39;00m f:\n\u001b[0;32m      3\u001b[0m     pickle\u001b[38;5;241m.\u001b[39mdump(model, f)\n",
      "File \u001b[1;32m~\\AppData\\Local\\pypoetry\\Cache\\virtualenvs\\testing_iris-NDqqneLa-py3.11\\Lib\\site-packages\\IPython\\core\\interactiveshell.py:324\u001b[0m, in \u001b[0;36m_modified_open\u001b[1;34m(file, *args, **kwargs)\u001b[0m\n\u001b[0;32m    317\u001b[0m \u001b[38;5;28;01mif\u001b[39;00m file \u001b[38;5;129;01min\u001b[39;00m {\u001b[38;5;241m0\u001b[39m, \u001b[38;5;241m1\u001b[39m, \u001b[38;5;241m2\u001b[39m}:\n\u001b[0;32m    318\u001b[0m     \u001b[38;5;28;01mraise\u001b[39;00m \u001b[38;5;167;01mValueError\u001b[39;00m(\n\u001b[0;32m    319\u001b[0m         \u001b[38;5;124mf\u001b[39m\u001b[38;5;124m\"\u001b[39m\u001b[38;5;124mIPython won\u001b[39m\u001b[38;5;124m'\u001b[39m\u001b[38;5;124mt let you open fd=\u001b[39m\u001b[38;5;132;01m{\u001b[39;00mfile\u001b[38;5;132;01m}\u001b[39;00m\u001b[38;5;124m by default \u001b[39m\u001b[38;5;124m\"\u001b[39m\n\u001b[0;32m    320\u001b[0m         \u001b[38;5;124m\"\u001b[39m\u001b[38;5;124mas it is likely to crash IPython. If you know what you are doing, \u001b[39m\u001b[38;5;124m\"\u001b[39m\n\u001b[0;32m    321\u001b[0m         \u001b[38;5;124m\"\u001b[39m\u001b[38;5;124myou can use builtins\u001b[39m\u001b[38;5;124m'\u001b[39m\u001b[38;5;124m open.\u001b[39m\u001b[38;5;124m\"\u001b[39m\n\u001b[0;32m    322\u001b[0m     )\n\u001b[1;32m--> 324\u001b[0m \u001b[38;5;28;01mreturn\u001b[39;00m \u001b[43mio_open\u001b[49m\u001b[43m(\u001b[49m\u001b[43mfile\u001b[49m\u001b[43m,\u001b[49m\u001b[43m \u001b[49m\u001b[38;5;241;43m*\u001b[39;49m\u001b[43margs\u001b[49m\u001b[43m,\u001b[49m\u001b[43m \u001b[49m\u001b[38;5;241;43m*\u001b[39;49m\u001b[38;5;241;43m*\u001b[39;49m\u001b[43mkwargs\u001b[49m\u001b[43m)\u001b[49m\n",
      "\u001b[1;31mFileNotFoundError\u001b[0m: [Errno 2] No such file or directory: '//models/trained_model.pkl'"
     ]
    }
   ],
   "source": [
    "# Save the model\n",
    "with open(\"//models/trained_model.pkl\", \"wb\") as f:\n",
    "    pickle.dump(model, f)"
   ]
  }
 ],
 "metadata": {
  "kernelspec": {
   "display_name": "Poetry Environment",
   "language": "python",
   "name": "poetry-env"
  },
  "language_info": {
   "codemirror_mode": {
    "name": "ipython",
    "version": 3
   },
   "file_extension": ".py",
   "mimetype": "text/x-python",
   "name": "python",
   "nbconvert_exporter": "python",
   "pygments_lexer": "ipython3",
   "version": "3.11.5"
  }
 },
 "nbformat": 4,
 "nbformat_minor": 5
}
